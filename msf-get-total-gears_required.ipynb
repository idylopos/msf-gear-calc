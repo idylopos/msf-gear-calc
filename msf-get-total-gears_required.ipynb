{
 "cells": [
  {
   "cell_type": "code",
   "execution_count": null,
   "metadata": {},
   "outputs": [],
   "source": [
    "import requests"
   ]
  },
  {
   "cell_type": "code",
   "execution_count": null,
   "metadata": {},
   "outputs": [],
   "source": [
    "NAME = 'Gambit'\n",
    "# NAME = 'MadelynePryor'"
   ]
  },
  {
   "cell_type": "code",
   "execution_count": null,
   "metadata": {},
   "outputs": [],
   "source": [
    "TIER_FROM = str(13)"
   ]
  },
  {
   "cell_type": "code",
   "execution_count": null,
   "metadata": {},
   "outputs": [],
   "source": [
    "def add_to_dict(input_dict, key, value):\n",
    "    res_dict = input_dict\n",
    "    if key not in input_dict:\n",
    "        res_dict[key] = value\n",
    "    else:\n",
    "        res_dict[key] += value\n",
    "    return res_dict\n",
    "\n",
    "\n",
    "dict1 = {'a': 1, 'b': 2}\n",
    "\n",
    "# if 'a' in dict1:\n",
    "#     print(\"key exists\")\n",
    "    \n",
    "# if dict1['a']:\n",
    "#     print(\"key exists\")\n",
    "    \n",
    "add_to_dict(dict1, 'a', 3)"
   ]
  },
  {
   "cell_type": "code",
   "execution_count": null,
   "metadata": {},
   "outputs": [],
   "source": [
    "URL_gear = 'https://api-staging.msf.gg/services/api/getGearTierInfo?characterId=' + NAME +'&lang=en'\n",
    "\n",
    "res_gear = requests.get(URL_gear)\n",
    "res_gear_json = res_gear.json()"
   ]
  },
  {
   "cell_type": "markdown",
   "metadata": {},
   "source": [
    "## Names of Each Slot"
   ]
  },
  {
   "cell_type": "code",
   "execution_count": null,
   "metadata": {},
   "outputs": [],
   "source": [
    "for slot in res_gear_json['data']['gearTiers'][TIER_FROM]['slots']:\n",
    "    print(slot['piece']['name'])\n",
    "        "
   ]
  },
  {
   "cell_type": "code",
   "execution_count": null,
   "metadata": {},
   "outputs": [],
   "source": [
    "# # mat_d1['item']['directCost']이 없는 애들은 dict에 넣어라\n",
    "# mat_required = {}\n",
    "\n",
    "# for slot in res_gear_json['data']['gearTiers'][TIER_FROM]['slots']:    \n",
    "#     print(slot)\n",
    "#     for mat_d1 in slot['piece']['directCost']: # <list>\n",
    "#         try:\n",
    "#             mat_d1['item']['directCost']    # 하위재료가 존재\n",
    "#         except: #하위재료가 없음\n",
    "#             print(mat_d1['item']['name'])\n",
    "#             add_to_dict(mat_required, mat_d1['item']['name'], mat_d1['quantity'])\n",
    "            \n",
    "# print(mat_required)"
   ]
  },
  {
   "cell_type": "code",
   "execution_count": null,
   "metadata": {},
   "outputs": [],
   "source": [
    "for slot in res_gear_json['data']['gearTiers'][TIER_FROM]['slots']:    \n",
    "    # print(slot['piece'].keys(), slot['piece']['name'])\n",
    "    if 'directCost' not in slot['piece'].keys():\n",
    "        print(slot['piece'])\n",
    "    # for mat_d1 in slot['piece']['directCost']: # <list>"
   ]
  },
  {
   "cell_type": "code",
   "execution_count": null,
   "metadata": {},
   "outputs": [],
   "source": [
    "mat_required = {}\n",
    "\n",
    "for slot in res_gear_json['data']['gearTiers'][TIER_FROM]['slots']:    \n",
    "    if 'directCost' not in slot['piece'].keys():\n",
    "        continue\n",
    "    else:        \n",
    "        for mat_d1 in slot['piece']['directCost']: # <list>\n",
    "            # print(\"material: \", mat_d1['item']['name'], mat_d1['quantity']) #slot/material\n",
    "            try: \n",
    "                mat_d1['item']['directCost'] # 하위재료가 존재\n",
    "                for mat_d2 in mat_d1['item']['directCost']:\n",
    "                    # print(\"material_bit: \", mat_d2['item']['name'], mat_d2['quantity']) #slot/material/material_bit\n",
    "                    try:\n",
    "                        mat_d2['item']['directCost'] # 하위재료가 존재\n",
    "                        for mat_d3 in mat_d2['item']['directCost']:\n",
    "                            # print(\"material_bit_parts: \", mat_d3['item']['name'], mat_d3['quantity']) #slot/material/material_bit/material_bit_parts\n",
    "                            try:\n",
    "                                mat_d3['item']['directCost'] # 하위재료가 존재\n",
    "                            except KeyError: #하위재료가 없음          \n",
    "                                add_to_dict(mat_required, mat_d3['item']['name'], mat_d3['quantity']*mat_d2['quantity']*mat_d1['quantity'])\n",
    "                    except KeyError: #하위재료가 없음\n",
    "                        add_to_dict(mat_required, mat_d2['item']['name'], mat_d2['quantity']*mat_d1['quantity'])\n",
    "            except KeyError: #하위재료가 없음\n",
    "                # print(mat_d1['item']['name'])\n",
    "                add_to_dict(mat_required, mat_d1['item']['name'], mat_d1['quantity'])\n",
    "\n",
    "print(mat_required)\n",
    "print(NAME)\n",
    "print(\"GEAR TIER FROM \", TIER_FROM, \"TO\", int(TIER_FROM)+1)\n",
    "\n"
   ]
  },
  {
   "cell_type": "markdown",
   "metadata": {},
   "source": [
    "Use  \n",
    "https://www.convertcsv.com/json-to-csv.htm\n",
    "\n",
    "to convert JSON to csv\n",
    "then paste them into the spreadsheet"
   ]
  },
  {
   "cell_type": "markdown",
   "metadata": {},
   "source": []
  },
  {
   "cell_type": "code",
   "execution_count": null,
   "metadata": {},
   "outputs": [],
   "source": [
    "# GET ALL GEARS REQUIRED TO UPGRADE FROM {TIER_FROM} TO 16\n",
    "\n",
    "TIER_FROM = str(10)\n",
    "\n",
    "mat_required_total = {}\n",
    "\n",
    "for i in range(int(TIER_FROM), 16):\n",
    "    for slot in res_gear_json['data']['gearTiers'][str(i)]['slots']:    \n",
    "        # print(slot['piece']['name'])\n",
    "        if 'directCost' not in slot['piece'].keys():\n",
    "            continue\n",
    "        else:        \n",
    "            for mat_d1 in slot['piece']['directCost']: # <list>\n",
    "                # print(\"material: \", mat_d1['item']['name'], mat_d1['quantity']) #slot/material\n",
    "                try: \n",
    "                    mat_d1['item']['directCost'] # 하위재료가 존재\n",
    "                    for mat_d2 in mat_d1['item']['directCost']:\n",
    "                        # print(\"material_bit: \", mat_d2['item']['name'], mat_d2['quantity']) #slot/material/material_bit\n",
    "                        try:\n",
    "                            mat_d2['item']['directCost'] # 하위재료가 존재\n",
    "                            for mat_d3 in mat_d2['item']['directCost']:\n",
    "                                # print(\"material_bit_parts: \", mat_d3['item']['name'], mat_d3['quantity']) #slot/material/material_bit/material_bit_parts\n",
    "                                try:\n",
    "                                    mat_d3['item']['directCost'] # 하위재료가 존재\n",
    "                                except KeyError: #하위재료가 없음          \n",
    "                                    add_to_dict(mat_required_total, mat_d3['item']['name'], mat_d3['quantity']*mat_d2['quantity']*mat_d1['quantity'])\n",
    "                        except KeyError: #하위재료가 없음\n",
    "                            add_to_dict(mat_required_total, mat_d2['item']['name'], mat_d2['quantity']*mat_d1['quantity'])\n",
    "                except KeyError: #하위재료가 없음\n",
    "                    # print(mat_d1['item']['name'])\n",
    "                    add_to_dict(mat_required_total, mat_d1['item']['name'], mat_d1['quantity'])\n",
    "\n",
    "print(mat_required_total)\n",
    "print(NAME)\n",
    "print(\"GEAR TIER FROM \", TIER_FROM, \"TO\", 16)\n",
    "\n",
    "# NOT CORRECT"
   ]
  },
  {
   "cell_type": "code",
   "execution_count": null,
   "metadata": {},
   "outputs": [],
   "source": [
    "140+240"
   ]
  },
  {
   "cell_type": "code",
   "execution_count": null,
   "metadata": {},
   "outputs": [],
   "source": []
  }
 ],
 "metadata": {
  "interpreter": {
   "hash": "525c3c0ecaba11104df255ab26a335bcd6d2d3839a2945e1b2731c5693f81d3d"
  },
  "kernelspec": {
   "display_name": "Python 3.8.12 ('py38')",
   "language": "python",
   "name": "python3"
  },
  "language_info": {
   "codemirror_mode": {
    "name": "ipython",
    "version": 3
   },
   "file_extension": ".py",
   "mimetype": "text/x-python",
   "name": "python",
   "nbconvert_exporter": "python",
   "pygments_lexer": "ipython3",
   "version": "3.8.12"
  },
  "orig_nbformat": 4
 },
 "nbformat": 4,
 "nbformat_minor": 2
}
